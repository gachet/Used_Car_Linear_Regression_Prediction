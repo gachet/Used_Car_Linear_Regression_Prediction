{
 "cells": [
  {
   "cell_type": "code",
   "execution_count": 10,
   "metadata": {},
   "outputs": [],
   "source": [
    "#run 1st\n",
    "import numpy as np \n",
    "\n",
    "def model1(x):\n",
    "    x = np.array(x)\n",
    "    coeff = np.array([-5.449e-06, 0.0044, 0.0133, -0.0489, -0.0569, 0.3272])\n",
    "    y = 11.3940+(np.sum(np.multiply(x, coeff)))\n",
    "    return round(np.exp(y),0)"
   ]
  },
  {
   "cell_type": "code",
   "execution_count": 15,
   "metadata": {},
   "outputs": [
    {
     "name": "stdout",
     "output_type": "stream",
     "text": [
      "Enter the parameters in the order shown below separated by commas \n",
      "                        1. Max mileage(integer and less than 80000mi),\n",
      "                        2. required city_mpg(integer and between 11 - 54 only), \n",
      "                        3. required highway_mpg(integer and between 16-50 only), \n",
      "                        4. year (integer and between 2018-2014 only),\n",
      "                        5. luxury brand? (if yes enter 1 otherwise 0)\n",
      "26686, 29, 36, 2015, 0\n"
     ]
    }
   ],
   "source": [
    "#run second, enter variables in input field, separated by commas\n",
    "ins = input(\"\"\"Enter the parameters in the order shown below separated by commas \n",
    "                        1. Max mileage(integer and less than 80000mi),\n",
    "                        2. required city_mpg(integer and between 11 - 54 only), \n",
    "                        3. required highway_mpg(integer and between 16-50 only), \n",
    "                        4. year (integer and between 2018-2014 only),\n",
    "                        5. luxury brand? (if yes enter 1 otherwise 0)\\n\"\"\")"
   ]
  },
  {
   "cell_type": "code",
   "execution_count": 16,
   "metadata": {},
   "outputs": [],
   "source": [
    "#run 3rd\n",
    "x = ins.split(\",\")\n",
    "x.insert(1, 'replace me!')\n",
    "x[0] = int(x[0])\n",
    "x[1] = 1 if x[0] <= 7500 else 0\n",
    "x[2] = int(x[2])\n",
    "x[3] = int(x[3])\n",
    "x[4] = 2019 - int(x[4])\n",
    "x[5] = int(x[5])"
   ]
  },
  {
   "cell_type": "code",
   "execution_count": 17,
   "metadata": {},
   "outputs": [
    {
     "data": {
      "text/plain": [
       "15464.0"
      ]
     },
     "execution_count": 17,
     "metadata": {},
     "output_type": "execute_result"
    }
   ],
   "source": [
    "#run last for results\n",
    "model1(x)"
   ]
  },
  {
   "cell_type": "code",
   "execution_count": null,
   "metadata": {},
   "outputs": [],
   "source": []
  }
 ],
 "metadata": {
  "kernelspec": {
   "display_name": "Python 3",
   "language": "python",
   "name": "python3"
  },
  "language_info": {
   "codemirror_mode": {
    "name": "ipython",
    "version": 3
   },
   "file_extension": ".py",
   "mimetype": "text/x-python",
   "name": "python",
   "nbconvert_exporter": "python",
   "pygments_lexer": "ipython3",
   "version": "3.7.3"
  }
 },
 "nbformat": 4,
 "nbformat_minor": 2
}
