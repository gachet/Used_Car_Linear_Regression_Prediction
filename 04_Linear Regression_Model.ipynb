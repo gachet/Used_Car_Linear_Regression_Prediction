{
 "cells": [
  {
   "cell_type": "markdown",
   "metadata": {},
   "source": [
    "## Further Cleaning, EDA, Feature Engineering and Linear Regression Models"
   ]
  },
  {
   "cell_type": "code",
   "execution_count": 1,
   "metadata": {},
   "outputs": [],
   "source": [
    "import matplotlib.pyplot as plt\n",
    "from scipy.stats import norm\n",
    "from scipy import stats\n",
    "import seaborn as sns\n",
    "import numpy as np \n",
    "import pandas as pd\n",
    "from sklearn.model_selection import train_test_split\n",
    "from sklearn.linear_model import LinearRegression\n",
    "from sklearn import metrics\n",
    "import matplotlib.pyplot as plt\n",
    "%matplotlib inline\n",
    "pd.set_option('display.max_columns', 300)\n",
    "pd.set_option('display.max_rows', 950)\n",
    "from statsmodels.formula.api import ols\n",
    "from sklearn.preprocessing import StandardScaler"
   ]
  },
  {
   "cell_type": "code",
   "execution_count": 2,
   "metadata": {},
   "outputs": [],
   "source": [
    "def checkresiduals(df, target, sm_model):\n",
    "    # checking for our model - Homoscedasticity,  Independence of residuals\n",
    "    pred_val = sm_model.fittedvalues.copy()\n",
    "    true_val = df[target].values.copy()\n",
    "    residual = true_val - pred_val\n",
    "\n",
    "    \n",
    "    fig, (ax1, ax2) = plt.subplots(1, 2, figsize=(10, 4))\n",
    "#     fig, ax = plt.subplots(figsize=(8, 6))\n",
    "    ax1.hist(residual, density=True, bins=30)\n",
    "    ax2.scatter(df[target],residual)\n",
    "    ax2.set_title('Residual Scatterplot')\n",
    "    plt.show()"
   ]
  },
  {
   "cell_type": "code",
   "execution_count": 12,
   "metadata": {},
   "outputs": [],
   "source": [
    "# import cleaned data in the json files "
   ]
  },
  {
   "cell_type": "code",
   "execution_count": 3,
   "metadata": {},
   "outputs": [],
   "source": [
    "df1 = pd.read_json('cleaned_json/cars_data_full_v2.json')\n",
    "df2 = pd.read_json('cleaned_json/cars_data_full_v2_2059.json')"
   ]
  },
  {
   "cell_type": "code",
   "execution_count": 4,
   "metadata": {},
   "outputs": [],
   "source": [
    "# drop data that was deemed not useful or too complicated to incorporate in the model"
   ]
  },
  {
   "cell_type": "code",
   "execution_count": 5,
   "metadata": {},
   "outputs": [],
   "source": [
    "df1.drop(['stock','interior_color','trim','vin'], axis=1, inplace = True)\n",
    "df2.drop(['stock','interior_color','vin'], axis=1, inplace = True)"
   ]
  },
  {
   "cell_type": "code",
   "execution_count": 6,
   "metadata": {},
   "outputs": [],
   "source": [
    "# Concat the two dataframes into one and reset index"
   ]
  },
  {
   "cell_type": "code",
   "execution_count": 7,
   "metadata": {},
   "outputs": [],
   "source": [
    "dfs = [df1, df2]\n",
    "df = pd.concat(dfs)\n",
    "df = df.reset_index()"
   ]
  },
  {
   "cell_type": "code",
   "execution_count": 8,
   "metadata": {},
   "outputs": [
    {
     "data": {
      "text/plain": [
       "(3055, 14)"
      ]
     },
     "execution_count": 8,
     "metadata": {},
     "output_type": "execute_result"
    }
   ],
   "source": [
    "df.shape"
   ]
  },
  {
   "cell_type": "code",
   "execution_count": 9,
   "metadata": {},
   "outputs": [],
   "source": [
    "# Drop outliers where price is over $80,000\n",
    "df = df[df['price']<80000]\n",
    "# Drop the one car with mpg under 80- this also gets rid of the NaN values\n",
    "df = df[df['city_mpg']<80]\n",
    "# determine the row index of a car with a 'Not provided' milage to be dropped from the table\n",
    "notgiven = df[df['mileage']=='Not provided'].index\n",
    "df.drop(notgiven, inplace = True)\n",
    "# create age of car based on 2019\n",
    "df['yr_old'] =  df['year'].map(lambda x: 2019-x)\n",
    "# checking all milage is turned into integers\n",
    "df['mileage'] = df['mileage'].astype(int)\n",
    "# dropping column of old index resulting from concating the two data frames from the previous step\n",
    "df.drop(['index'], axis=1, inplace = True)\n",
    "# Drop outliers with 0 highway mpg\n",
    "dfzero = df[df['highway_mpg']==0].index\n",
    "df.drop(dfzero, inplace = True)"
   ]
  },
  {
   "cell_type": "code",
   "execution_count": 14,
   "metadata": {},
   "outputs": [],
   "source": [
    "columns = ['city_mpg', 'highway_mpg', 'mileage', 'yr_old']"
   ]
  },
  {
   "cell_type": "code",
   "execution_count": 15,
   "metadata": {},
   "outputs": [
    {
     "data": {
      "text/plain": [
       "[['city_mpg', 'highway_mpg', 'mileage', 'yr_old']]"
      ]
     },
     "execution_count": 15,
     "metadata": {},
     "output_type": "execute_result"
    }
   ],
   "source": [
    "n = 4\n",
    "row_groups= [columns[i:i+n] for i in range(0, len(columns), n) ]\n",
    "row_groups"
   ]
  },
  {
   "cell_type": "code",
   "execution_count": 17,
   "metadata": {},
   "outputs": [],
   "source": [
    "# Two additonal variables were introduced which were: \n",
    "# 1. the cars that are considered to be luxury cars as a binary variable.\n",
    "# 2. and the cars that are considered to be low mileage <= 7,500mi as a binary variable."
   ]
  },
  {
   "cell_type": "code",
   "execution_count": 18,
   "metadata": {},
   "outputs": [],
   "source": [
    "luxury = ['Mercedes-Benz', 'BMW', 'Lexus', 'Acura', 'Audi', 'INFINITI', 'Cadillac', 'Land Rover', 'Volvo', 'Lincoln', 'Maserati', 'Alfa Romeo', 'Porsche', 'Jaguar']\n",
    "df['luxury'] = np.where(df['make'].isin(luxury), 1, 0)\n",
    "df['low_mileage']= np.where(df['mileage']<=7500, 1, 0)"
   ]
  },
  {
   "cell_type": "code",
   "execution_count": 19,
   "metadata": {
    "collapsed": true
   },
   "outputs": [
    {
     "data": {
      "text/plain": [
       "0    2571\n",
       "1     106\n",
       "Name: low_mileage, dtype: int64"
      ]
     },
     "execution_count": 19,
     "metadata": {},
     "output_type": "execute_result"
    }
   ],
   "source": [
    "# checking number of cars considered to be of low mileage\n",
    "df.low_mileage.value_counts()"
   ]
  },
  {
   "cell_type": "code",
   "execution_count": 20,
   "metadata": {
    "collapsed": true
   },
   "outputs": [
    {
     "data": {
      "text/plain": [
       "brand               0\n",
       "city_mpg            0\n",
       "drivetrain        113\n",
       "engine             92\n",
       "exterior_color     20\n",
       "fuel_type           0\n",
       "highway_mpg         0\n",
       "make                0\n",
       "mileage             0\n",
       "model              37\n",
       "price               0\n",
       "transmission       22\n",
       "year                0\n",
       "yr_old              0\n",
       "luxury              0\n",
       "low_mileage         0\n",
       "dtype: int64"
      ]
     },
     "execution_count": 20,
     "metadata": {},
     "output_type": "execute_result"
    }
   ],
   "source": [
    "# checking for NaN objects- none are found for relevant variables\n",
    "df.isna().sum()"
   ]
  },
  {
   "cell_type": "code",
   "execution_count": 21,
   "metadata": {},
   "outputs": [],
   "source": [
    "# creating converting data into log for future\n",
    "df['price_log'] = np.log(df['price'])"
   ]
  },
  {
   "cell_type": "markdown",
   "metadata": {},
   "source": [
    "Checking different model coefficents, p-values and R-squared values in order to determine what is the best model to use. This will be done by setting the target value as 'price' with various variable combinations."
   ]
  },
  {
   "cell_type": "code",
   "execution_count": 70,
   "metadata": {},
   "outputs": [
    {
     "data": {
      "image/png": "[encoded data removed]",
      "text/plain": [
       "<Figure size 720x288 with 2 Axes>"
      ]
     },
     "metadata": {
      "needs_background": "light"
     },
     "output_type": "display_data"
    }
   ],
   "source": [
    "checkresiduals(df, 'price_log', price_log_lux_low_model)"
   ]
  },
  {
   "cell_type": "code",
   "execution_count": 71,
   "metadata": {},
   "outputs": [],
   "source": [
    "def model1(x):\n",
    "    x = np.array(x)\n",
    "    coeff = np.array([-5.449e-06, 0.0044, 0.0133, -0.0489, -0.0569, 0.3272])\n",
    "    y = 11.3940+(np.sum(np.multiply(x, coeff)))\n",
    "    return round(np.exp(y),0), \"Expected resale value in USD\""
   ]
  },
  {
   "cell_type": "markdown",
   "metadata": {},
   "source": [
    "## Linear Regression Model"
   ]
  },
  {
   "cell_type": "markdown",
   "metadata": {},
   "source": [
    "Cars consdiered to be luxury:\n",
    "Mercedes-Benz, BMW, Lexus, Acura, Audi, INFINITI, Cadillac, Land Rover, Volvo, Lincoln, Maserati, Alfa Romeo, Porsche and Jaguar."
   ]
  },
  {
   "cell_type": "code",
   "execution_count": 67,
   "metadata": {},
   "outputs": [
    {
     "name": "stdout",
     "output_type": "stream",
     "text": [
      "Enter the parameters in the order show below separated by comma \n",
      "                        1. Max mileage(integer),\n",
      "                        2. required city_mpg(integer), \n",
      "                        3. required highway_mpg, \n",
      "                        4. year (2018-2014 only),\n",
      "                        5. luxury brand? (if yes enter 1 otherwise 0)10000, 20, 18, 2015, 0\n"
     ]
    }
   ],
   "source": [
    "ins = input(\"\"\"Enter the parameters in the order shown below separated by commas \n",
    "                        1. Max mileage(integer),\n",
    "                        2. required city_mpg(integer), \n",
    "                        3. required highway_mpg, \n",
    "                        4. year (2018-2014 only),\n",
    "                        5. luxury brand? (if yes enter 1 otherwise 0)\"\"\")"
   ]
  },
  {
   "cell_type": "code",
   "execution_count": 73,
   "metadata": {},
   "outputs": [],
   "source": [
    "x = ins.split(\",\")\n",
    "x.insert(1, 'replace me!')\n",
    "x[0] = int(x[0])\n",
    "x[1] = 1 if x[0] <= 7500 else 0\n",
    "x[2] = int(x[2])\n",
    "x[3] = int(x[3])\n",
    "x[4] = 2019 - int(x[4])\n",
    "x[5] = int(x[5])"
   ]
  },
  {
   "cell_type": "code",
   "execution_count": 74,
   "metadata": {},
   "outputs": [
    {
     "data": {
      "text/plain": [
       "(36232.0, 'Expected resale value in USD')"
      ]
     },
     "execution_count": 74,
     "metadata": {},
     "output_type": "execute_result"
    }
   ],
   "source": [
    "model1(x)"
   ]
  },
  {
   "cell_type": "code",
   "execution_count": null,
   "metadata": {},
   "outputs": [],
   "source": []
  }
 ],
 "metadata": {
  "kernelspec": {
   "display_name": "Python 3",
   "language": "python",
   "name": "python3"
  },
  "language_info": {
   "codemirror_mode": {
    "name": "ipython",
    "version": 3
   },
   "file_extension": ".py",
   "mimetype": "text/x-python",
   "name": "python",
   "nbconvert_exporter": "python",
   "pygments_lexer": "ipython3",
   "version": "3.7.3"
  }
 },
 "nbformat": 4,
 "nbformat_minor": 2
}
